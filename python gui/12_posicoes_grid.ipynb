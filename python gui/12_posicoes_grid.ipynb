{
 "cells": [
  {
   "cell_type": "code",
   "execution_count": 1,
   "metadata": {},
   "outputs": [],
   "source": [
    "from tkinter import *"
   ]
  },
  {
   "cell_type": "code",
   "execution_count": 7,
   "metadata": {},
   "outputs": [],
   "source": [
    "main = Tk()\n",
    "main.iconbitmap('icon/IF.ico')\n",
    "main.title(\"alterar posições em grid\")\n",
    "main.geometry(\"750x500+600+200\")\n",
    "main.resizable(False,False)\n",
    "main.minsize(500,500)\n",
    "main['bg']='#000512'\n",
    "\n",
    "\n"
   ]
  },
  {
   "cell_type": "markdown",
   "metadata": {},
   "source": [
    "Sistema de Grid: é uma tabela constituido por linhas e colunas.\n",
    "trocar função <h4>pack</h4> com função <h4>grid</h4>\n",
    "Função na tabela: row    = int\n",
    "                  column = int"
   ]
  },
  {
   "cell_type": "code",
   "execution_count": 8,
   "metadata": {},
   "outputs": [],
   "source": [
    "texto='Texto 1 - Informa posições preciosas nas Supostas posições X'\n",
    "label1= Label(main,text=texto,relief='groove',bd=3,bg='gray',font='Arial 12 bold italic',fg='black',width=50,height=2,anchor=NW)\n",
    "label1.grid(row=0,column=0)"
   ]
  },
  {
   "cell_type": "code",
   "execution_count": 9,
   "metadata": {},
   "outputs": [],
   "source": [
    "texto='Texto 2 - Informa posições preciosas nas Supostas posições Y'\n",
    "label2= Label(main,text=texto,font='Arial 12 bold italic',relief='groove',bd=3,bg='gray',fg='black',width=50,height=2,anchor=SW)\n",
    "label2.grid(row=1,column=0)"
   ]
  },
  {
   "cell_type": "code",
   "execution_count": 10,
   "metadata": {},
   "outputs": [],
   "source": [
    "texto='Texto 3 - Informa posições preciosas nas Supostas posições Y'\n",
    "label3= Label(main,text=texto,font='Arial 12 bold italic',relief='groove',bd=3,bg='gray',fg='black',width=50,height=2,anchor=SW)\n",
    "label3.grid(row=2,column=0)"
   ]
  },
  {
   "cell_type": "markdown",
   "metadata": {},
   "source": [
    "quando não existir elementos no seu intermédio, ele ignora as posições puladas e junta da mesma forma."
   ]
  },
  {
   "cell_type": "code",
   "execution_count": 6,
   "metadata": {},
   "outputs": [],
   "source": [
    "main.mainloop()"
   ]
  }
 ],
 "metadata": {
  "interpreter": {
   "hash": "460de896384a73731810fc9d21c34d0aaf1e49ef9a11632b2e84b9b8a04fe99c"
  },
  "kernelspec": {
   "display_name": "Python 3.9.7 ('base')",
   "language": "python",
   "name": "python3"
  },
  "language_info": {
   "codemirror_mode": {
    "name": "ipython",
    "version": 3
   },
   "file_extension": ".py",
   "mimetype": "text/x-python",
   "name": "python",
   "nbconvert_exporter": "python",
   "pygments_lexer": "ipython3",
   "version": "3.9.7"
  },
  "orig_nbformat": 4
 },
 "nbformat": 4,
 "nbformat_minor": 2
}
