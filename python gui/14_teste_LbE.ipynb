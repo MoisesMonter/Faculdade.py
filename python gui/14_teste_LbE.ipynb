{
 "cells": [
  {
   "cell_type": "code",
   "execution_count": 34,
   "metadata": {},
   "outputs": [],
   "source": [
    "from tkinter import *"
   ]
  },
  {
   "cell_type": "code",
   "execution_count": 35,
   "metadata": {},
   "outputs": [],
   "source": [
    "def mostrarNome():\n",
    "    nome = ''\n",
    "    nome = boxI_1.get()\n",
    "    label_f= Label(main,bg='gray',fg='white',bd=2,relief='groove',text='Olá '+nome)\n",
    "    label_f.grid(row=5,column=1)"
   ]
  },
  {
   "cell_type": "code",
   "execution_count": 36,
   "metadata": {},
   "outputs": [],
   "source": [
    "main = Tk()\n",
    "main.title('Teste nome')\n",
    "main.iconbitmap('icon/IF.ico')\n",
    "main.geometry('200x200+750+300')\n",
    "main.resizable(False,False)\n",
    "main['bg']='#000512'"
   ]
  },
  {
   "cell_type": "markdown",
   "metadata": {},
   "source": []
  },
  {
   "cell_type": "markdown",
   "metadata": {},
   "source": [
    "criar imagem de informação"
   ]
  },
  {
   "cell_type": "code",
   "execution_count": 37,
   "metadata": {},
   "outputs": [],
   "source": [
    "Label(main,bg='#000512').grid(row=0,column=0)\n",
    "label_1=Label(main,text=\"Escreva o teu nome:\",font='Arial 15',bd=1,relief='ridge',bg='black',fg='white',)\n",
    "Label(main,bg='#000512').grid(row=1,column=0)\n",
    "label_1.grid(row=1,column=1,sticky=E)"
   ]
  },
  {
   "cell_type": "code",
   "execution_count": 38,
   "metadata": {},
   "outputs": [],
   "source": [
    "boxI_1=Entry(main)\n",
    "\n",
    "button_1=Button(main,text='Run!',command=mostrarNome)\n",
    "\n",
    "boxI_1.grid(row=2,column=1)\n",
    "button_1.grid(row=3,column=1)\n",
    "Label(main,bg='#000512').grid(row=4,column=0)"
   ]
  },
  {
   "cell_type": "code",
   "execution_count": 33,
   "metadata": {},
   "outputs": [
    {
     "name": "stderr",
     "output_type": "stream",
     "text": [
      "Exception in Tkinter callback\n",
      "Traceback (most recent call last):\n",
      "  File \"D:\\DEV\\Anaconda3\\lib\\tkinter\\__init__.py\", line 1892, in __call__\n",
      "    return self.func(*args)\n",
      "  File \"C:\\Users\\SIRMON~1\\AppData\\Local\\Temp/ipykernel_7432/410260518.py\", line 3, in mostrarNome\n",
      "    nome = boxI_1.get()\n",
      "  File \"D:\\DEV\\Anaconda3\\lib\\tkinter\\__init__.py\", line 3043, in get\n",
      "    return self.tk.call(self._w, 'get')\n",
      "_tkinter.TclError: invalid command name \".!entry\"\n",
      "Exception in Tkinter callback\n",
      "Traceback (most recent call last):\n",
      "  File \"D:\\DEV\\Anaconda3\\lib\\tkinter\\__init__.py\", line 1892, in __call__\n",
      "    return self.func(*args)\n",
      "  File \"C:\\Users\\SIRMON~1\\AppData\\Local\\Temp/ipykernel_7432/410260518.py\", line 3, in mostrarNome\n",
      "    nome = boxI_1.get()\n",
      "  File \"D:\\DEV\\Anaconda3\\lib\\tkinter\\__init__.py\", line 3043, in get\n",
      "    return self.tk.call(self._w, 'get')\n",
      "_tkinter.TclError: invalid command name \".!entry\"\n",
      "Exception in Tkinter callback\n",
      "Traceback (most recent call last):\n",
      "  File \"D:\\DEV\\Anaconda3\\lib\\tkinter\\__init__.py\", line 1892, in __call__\n",
      "    return self.func(*args)\n",
      "  File \"C:\\Users\\SIRMON~1\\AppData\\Local\\Temp/ipykernel_7432/410260518.py\", line 3, in mostrarNome\n",
      "    nome = boxI_1.get()\n",
      "  File \"D:\\DEV\\Anaconda3\\lib\\tkinter\\__init__.py\", line 3043, in get\n",
      "    return self.tk.call(self._w, 'get')\n",
      "_tkinter.TclError: invalid command name \".!entry\"\n",
      "Exception in Tkinter callback\n",
      "Traceback (most recent call last):\n",
      "  File \"D:\\DEV\\Anaconda3\\lib\\tkinter\\__init__.py\", line 1892, in __call__\n",
      "    return self.func(*args)\n",
      "  File \"C:\\Users\\SIRMON~1\\AppData\\Local\\Temp/ipykernel_7432/410260518.py\", line 3, in mostrarNome\n",
      "    nome = boxI_1.get()\n",
      "  File \"D:\\DEV\\Anaconda3\\lib\\tkinter\\__init__.py\", line 3043, in get\n",
      "    return self.tk.call(self._w, 'get')\n",
      "_tkinter.TclError: invalid command name \".!entry\"\n"
     ]
    }
   ],
   "source": [
    "main.mainloop()"
   ]
  }
 ],
 "metadata": {
  "interpreter": {
   "hash": "460de896384a73731810fc9d21c34d0aaf1e49ef9a11632b2e84b9b8a04fe99c"
  },
  "kernelspec": {
   "display_name": "Python 3.9.7 ('base')",
   "language": "python",
   "name": "python3"
  },
  "language_info": {
   "codemirror_mode": {
    "name": "ipython",
    "version": 3
   },
   "file_extension": ".py",
   "mimetype": "text/x-python",
   "name": "python",
   "nbconvert_exporter": "python",
   "pygments_lexer": "ipython3",
   "version": "3.9.7"
  },
  "orig_nbformat": 4
 },
 "nbformat": 4,
 "nbformat_minor": 2
}
