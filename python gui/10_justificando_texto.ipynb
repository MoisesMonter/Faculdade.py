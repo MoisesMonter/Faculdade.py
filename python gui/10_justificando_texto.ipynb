{
 "cells": [
  {
   "cell_type": "code",
   "execution_count": 28,
   "metadata": {},
   "outputs": [],
   "source": [
    "from tkinter import *"
   ]
  },
  {
   "cell_type": "code",
   "execution_count": 29,
   "metadata": {},
   "outputs": [],
   "source": [
    "main = Tk()\n",
    "main.iconbitmap(\"icon/IF.ico\")\n",
    "main.title(\"Posição do texto. Sr.Monter\")\n",
    "main.geometry(\"750x700+600+200\")\n",
    "main.resizable(False,False)\n",
    "main['bg']='#000512'"
   ]
  },
  {
   "cell_type": "markdown",
   "metadata": {},
   "source": [
    "Função:\n",
    "    justify =LEFT,RIGHT,CENTER"
   ]
  },
  {
   "cell_type": "code",
   "execution_count": 30,
   "metadata": {},
   "outputs": [],
   "source": [
    "txt='Left-Esquerda, normalmente esse texto\\nQuando quebrado tem o poder de\\n ir para esquerda'\n",
    "lb_L=Label(main,text=txt,font='Arial 12',relief='sunken',fg='white',bg='black',width=40,height=4)\n",
    "lb_L['justify']=LEFT\n",
    "lb_L.pack()"
   ]
  },
  {
   "cell_type": "markdown",
   "metadata": {},
   "source": [
    "<h3>Existe sim uma forma de ocupar ou melhor de alocar o texto</h3>"
   ]
  },
  {
   "cell_type": "code",
   "execution_count": 31,
   "metadata": {},
   "outputs": [],
   "source": [
    "txtc='CENTER-Centro,mesmo quebrando esse texto\\nExiste espaço vasio nesse\\nbloco'\n",
    "lb_C= Label(main,text=txtc,font='Arial 12', relief='sunken',fg='white',bg='black',width=40,height=4)\n",
    "lb_C['justify']=CENTER\n",
    "lb_C.pack()"
   ]
  },
  {
   "cell_type": "markdown",
   "metadata": {},
   "source": [
    "<h1>Função: anchor = W || SW <- ESQUERDA</br>\n",
    "            anchor = E || SE <- DIREITA </h1>"
   ]
  },
  {
   "cell_type": "code",
   "execution_count": 32,
   "metadata": {},
   "outputs": [],
   "source": [
    "txtr='RIGHT-Direita,\\n invadir o espaço vasio\\n para que seja utilizado\\n melhor do espaço'\n",
    "lb_R= Label(main,text=txtr,font='Arial 12',relief='ridge',fg='white',bg='black',width=40,height=4,justify=RIGHT)\n",
    "lb_R['anchor']=SE\n",
    "lb_R.pack()"
   ]
  },
  {
   "cell_type": "code",
   "execution_count": 33,
   "metadata": {},
   "outputs": [],
   "source": [
    "txtl1='vamos usar o anchor\\n dentro do Label()\\n para fechar a esquerda agora, Só que em cima'\n",
    "lb_l1= Label(main,text=txtl1,font='Arial 12',relief='ridge',fg='white',bg='black',width=40,height=4,justify=LEFT,anchor=NW)\n",
    "lb_l1.pack()"
   ]
  },
  {
   "cell_type": "code",
   "execution_count": 34,
   "metadata": {},
   "outputs": [],
   "source": [
    "txtc1='vamos usar o anchor\\n dentro do Label()\\n para fechar a esquerda agora, Só que em baixo'\n",
    "lb_c1= Label(main,text=txtc1,font='Arial 12',relief='ridge',bd=2,fg='white',bg='black',width=40,height=4,justify=CENTER,anchor=CENTER)\n",
    "lb_c1.pack()"
   ]
  },
  {
   "cell_type": "code",
   "execution_count": 35,
   "metadata": {},
   "outputs": [],
   "source": [
    "from PIL import Image,ImageTk\n",
    "image = Image.open(\"arq/10_anchors.jpg\")\n",
    "img = ImageTk.PhotoImage(image)\n",
    "\n",
    "img_l = Label(main,text='Mostrando funções do Anchor',image=img,bd=5,relief='solid')\n",
    "img_l.pack()"
   ]
  },
  {
   "cell_type": "code",
   "execution_count": 36,
   "metadata": {},
   "outputs": [],
   "source": [
    "\n",
    "main.mainloop()"
   ]
  }
 ],
 "metadata": {
  "interpreter": {
   "hash": "460de896384a73731810fc9d21c34d0aaf1e49ef9a11632b2e84b9b8a04fe99c"
  },
  "kernelspec": {
   "display_name": "Python 3.9.7 ('base')",
   "language": "python",
   "name": "python3"
  },
  "language_info": {
   "codemirror_mode": {
    "name": "ipython",
    "version": 3
   },
   "file_extension": ".py",
   "mimetype": "text/x-python",
   "name": "python",
   "nbconvert_exporter": "python",
   "pygments_lexer": "ipython3",
   "version": "3.9.7"
  },
  "orig_nbformat": 4
 },
 "nbformat": 4,
 "nbformat_minor": 2
}
