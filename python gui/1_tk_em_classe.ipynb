{
 "cells": [
  {
   "cell_type": "code",
   "execution_count": null,
   "metadata": {},
   "outputs": [],
   "source": [
    "from tkinter import *\n",
    "\n",
    "class gui:\n",
    "    def __init__(self,program =0):\n",
    "        self.main = program\n",
    "    \n",
    "    def __Gui__(self):\n",
    "        self.main = Tk()\n",
    "        self.main.title(\"Programa gui\")\n",
    "        self.main.mainloop()\n",
    "\n",
    "\n",
    "\n",
    "if (__name__) == \"__main__\":\n",
    "    gui().__Gui__()\n"
   ]
  },
  {
   "cell_type": "markdown",
   "metadata": {},
   "source": [
    "Definindo um Tkinter dentro de uma classe\n"
   ]
  }
 ],
 "metadata": {
  "language_info": {
   "name": "python"
  },
  "orig_nbformat": 4
 },
 "nbformat": 4,
 "nbformat_minor": 2
}
