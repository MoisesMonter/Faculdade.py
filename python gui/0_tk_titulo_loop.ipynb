{
 "cells": [
  {
   "cell_type": "code",
   "execution_count": null,
   "metadata": {},
   "outputs": [],
   "source": [
    "from tkinter import *\n",
    "import os\n",
    "\n",
    "\n",
    "\n",
    "os.system(\"cls\")\n",
    "menu_inicial = Tk() \n",
    "menu_inicial.title(\"Primeira app\")\n",
    "menu_inicial.mainloop() "
   ]
  },
  {
   "cell_type": "markdown",
   "metadata": {},
   "source": [
    "Tk é classe que trabalha chamando sua janela\n",
    "mainloop faz o programa continuar rodando"
   ]
  }
 ],
 "metadata": {
  "language_info": {
   "name": "python"
  },
  "orig_nbformat": 4
 },
 "nbformat": 4,
 "nbformat_minor": 2
}
