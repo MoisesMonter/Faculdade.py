{
 "cells": [
  {
   "cell_type": "code",
   "execution_count": null,
   "metadata": {},
   "outputs": [],
   "source": [
    "from tkinter import *"
   ]
  },
  {
   "cell_type": "code",
   "execution_count": 2,
   "metadata": {},
   "outputs": [],
   "source": [
    "main = Tk()\n",
    "main.iconbitmap(\"icon/IF.ico\")\n",
    "main.title(\"Ajustando espaço.\")\n",
    "main.geometry(\"750x500+600+200\")\n",
    "main['bg']='black'\n",
    "main.resizable(False,False)\n",
    "label = Label(main,text=\"Texto sem espaço\",font='Arial 20 bold',bd='1',relief='solid',bg='gray')\n",
    "label.pack()\n"
   ]
  },
  {
   "cell_type": "markdown",
   "metadata": {},
   "source": [
    "<h3>/\\Label sem espaço /\\</h3>\n",
    "<h3>\\/Label com espaço\\/</h3>"
   ]
  },
  {
   "cell_type": "code",
   "execution_count": 3,
   "metadata": {},
   "outputs": [],
   "source": [
    "label1= Label(main,text='com espaço',font='Arial 20 bold',bd=2,relief='groove',bg='black',fg='#aaaaaa')\n",
    "label1['padx']=50\n",
    "label1['pady']=50\n",
    "label1.pack()"
   ]
  },
  {
   "cell_type": "markdown",
   "metadata": {},
   "source": [
    "Fução :\n",
    "    Label recebe padx,pady"
   ]
  },
  {
   "cell_type": "markdown",
   "metadata": {},
   "source": []
  },
  {
   "cell_type": "code",
   "execution_count": 4,
   "metadata": {},
   "outputs": [],
   "source": [
    "\n",
    "label2 = Label(main,text='\\n1\\n2\\n3',font='Arial 12', bd=4,relief='sunken',bg='#000512',fg='white',padx=10,pady=30)\n",
    "label2.pack()"
   ]
  },
  {
   "cell_type": "code",
   "execution_count": 5,
   "metadata": {},
   "outputs": [],
   "source": [
    "main.mainloop()"
   ]
  }
 ],
 "metadata": {
  "interpreter": {
   "hash": "460de896384a73731810fc9d21c34d0aaf1e49ef9a11632b2e84b9b8a04fe99c"
  },
  "kernelspec": {
   "display_name": "Python 3.9.7 ('base')",
   "language": "python",
   "name": "python3"
  },
  "language_info": {
   "codemirror_mode": {
    "name": "ipython",
    "version": 3
   },
   "file_extension": ".py",
   "mimetype": "text/x-python",
   "name": "python",
   "nbconvert_exporter": "python",
   "pygments_lexer": "ipython3",
   "version": "3.9.7"
  },
  "orig_nbformat": 4
 },
 "nbformat": 4,
 "nbformat_minor": 2
}
