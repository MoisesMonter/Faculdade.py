{
 "cells": [
  {
   "cell_type": "code",
   "execution_count": null,
   "metadata": {},
   "outputs": [],
   "source": [
    "from tkinter import*\n",
    "\n",
    "main = Tk()\n",
    "main.title(\"Projeto botao\")\n",
    "main.iconbitmap('icon/IF.ico')\n",
    "main.geometry(\"750x500+600+250\")\n",
    "main.minsize(width=500,height=500)\n",
    "#main.state=\"iconic\"\n",
    "main['bg']='gray'\n",
    "'''gerando background no Tkinter'''\n",
    "btnplay= Button(main,text='Run!',bg='#66f300')\n",
    "btnplay.pack()\n",
    "\n",
    "\n",
    "\n",
    "'''gerando botão'''\n",
    "\n",
    "main.mainloop()\n"
   ]
  },
  {
   "cell_type": "markdown",
   "metadata": {},
   "source": [
    "Função: Button\n",
    "        Bg\n",
    "\n",
    "Altrar fundo do main basta chamar >> main['bg']='cor.\n",
    "Button para ser criado, crie uma variável > BT <  chame\n",
    "BT = Button('variavel que pucha Tk()== main','texto',...)\n"
   ]
  }
 ],
 "metadata": {
  "interpreter": {
   "hash": "460de896384a73731810fc9d21c34d0aaf1e49ef9a11632b2e84b9b8a04fe99c"
  },
  "kernelspec": {
   "display_name": "Python 3.9.7 ('base')",
   "language": "python",
   "name": "python3"
  },
  "language_info": {
   "name": "python",
   "version": "3.9.7"
  },
  "orig_nbformat": 4
 },
 "nbformat": 4,
 "nbformat_minor": 2
}
