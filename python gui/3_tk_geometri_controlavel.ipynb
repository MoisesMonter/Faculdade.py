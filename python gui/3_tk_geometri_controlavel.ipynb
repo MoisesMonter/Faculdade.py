{
 "cells": [
  {
   "cell_type": "code",
   "execution_count": null,
   "metadata": {},
   "outputs": [],
   "source": [
    "from tkinter import *\n",
    "\n",
    "\n",
    "main = Tk()\n",
    "main.title(\"Geometria Escalável.\")\n",
    "\n",
    "\n",
    "'''Geometry responsável por iniciar tela com o tamanho padronizao e seu ambiente onde será exibido sempre. x>tam, +>posi'''\n",
    "main.geometry(\"750x500+600+200\")\n",
    "'''resizable responsável por dizer se a altura ou largura pode ou não ser alterado > Valores Booleanos (True/False'''\n",
    "main.resizable(width=True,height=True)\n",
    "'''minsize: trabalha com valor minimo de Width em seguida seu height> valores independentes de aspas'''\n",
    "main.minsize(width=550,height=350)\n",
    "'''maxsize: trabalha com seu valor maximo width em seguida seu height> valores independentes de aspas'''\n",
    "#main.maxsize(width=750,height=500)\n",
    "\n",
    "'''Existe uma forma de iniciar a tela ampliada ou minimizada. palavras chaves são:\n",
    " função: state()\n",
    " operação-maximizar: zoomed\n",
    " operação-minimizar: iconic\n",
    " '''\n",
    "main.state(\"zoomed\")\n",
    "main.mainloop()"
   ]
  },
  {
   "cell_type": "markdown",
   "metadata": {},
   "source": [
    "Funções usadas:\n",
    "Minsize(Width=int,height=int), Tamanho Minimo\n",
    "Maxsize(Width=int,height=int), Tamanho Maximo.\n",
    "\n",
    "Função usada: para definir abertura da tela do programa.\n",
    "state(string), zoomed = Full-Screen\n",
    "               ionic  = Tamanho Minimo da tela"
   ]
  }
 ],
 "metadata": {
  "language_info": {
   "name": "python"
  },
  "orig_nbformat": 4
 },
 "nbformat": 4,
 "nbformat_minor": 2
}
