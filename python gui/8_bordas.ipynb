{
 "cells": [
  {
   "cell_type": "code",
   "execution_count": 1,
   "metadata": {},
   "outputs": [],
   "source": [
    "from tkinter import*\n",
    "'''bords são criadas pelo relief e temos 6 tipos\n",
    "solid,flat,raised,sunken,ridge,groove'''\n",
    "main = Tk()\n",
    "main.title(\"Bordas e tipos\")\n",
    "main.geometry('750x600+600+200')\n",
    "main.minsize(750,600)\n",
    "main.resizable(False,False)\n",
    "main.iconbitmap(\"icon/IF.ico\")\n",
    "label1 = Label(\n",
    "    text=\"relief='solid'\",\n",
    "    font='verdana 50 bold',\n",
    "    relief='solid',\n",
    "    bd=4\n",
    ").pack()"
   ]
  },
  {
   "cell_type": "markdown",
   "metadata": {},
   "source": [
    "cuidado ao fechar o .pack() na propria variavel label, futuras alterações podem ocorrer erro.\n",
    "Funcão:\n",
    "    relief: tipo de borda que usará.\n",
    "    bd: tamanho da espessura da borda\n",
    "<h1>/\\_Solid_/\\</h1>"
   ]
  },
  {
   "cell_type": "code",
   "execution_count": 2,
   "metadata": {},
   "outputs": [],
   "source": [
    "\n",
    "label2 = Label(\n",
    "    text=\"relief='flat'\",\n",
    "    font='verdana 50 bold',\n",
    "    relief='flat',\n",
    "    bd=4\n",
    ").pack()\n"
   ]
  },
  {
   "cell_type": "markdown",
   "metadata": {},
   "source": [
    "<h1>/\\_flat_/\\</h1>"
   ]
  },
  {
   "cell_type": "code",
   "execution_count": 3,
   "metadata": {},
   "outputs": [],
   "source": [
    "label3 = Label(\n",
    "    text=\"relief='raised\",\n",
    "    font='verdana 50 bold',\n",
    "    relief='raised',\n",
    "    bd=4\n",
    ").pack()\n"
   ]
  },
  {
   "cell_type": "markdown",
   "metadata": {},
   "source": [
    "<h1>/\\_raised_/\\</h1>"
   ]
  },
  {
   "cell_type": "code",
   "execution_count": 4,
   "metadata": {},
   "outputs": [],
   "source": [
    "label4 = Label(\n",
    "    text=\"relief='sunken'\",\n",
    "    font='verdana 50 bold',\n",
    "    relief='sunken',\n",
    "    bd=4\n",
    ").pack()\n"
   ]
  },
  {
   "cell_type": "markdown",
   "metadata": {},
   "source": [
    "<h1>/\\_sunken_/\\</h1>"
   ]
  },
  {
   "cell_type": "code",
   "execution_count": 5,
   "metadata": {},
   "outputs": [],
   "source": [
    "label5 = Label(\n",
    "    text=\"relief='ridge'\",\n",
    "    font='verdana 50 bold',\n",
    "    relief='ridge',\n",
    "    bd=4\n",
    ").pack()\n"
   ]
  },
  {
   "cell_type": "markdown",
   "metadata": {},
   "source": [
    "<h1>/\\_ridge_/\\</h1>"
   ]
  },
  {
   "cell_type": "code",
   "execution_count": 6,
   "metadata": {},
   "outputs": [],
   "source": [
    "label6 = Label(\n",
    "    text=\"relief='groove'\",\n",
    "    font='verdana 50 bold',\n",
    "    relief='groove',\n",
    "    bd=4\n",
    ").pack()"
   ]
  },
  {
   "cell_type": "markdown",
   "metadata": {},
   "source": [
    "<h1>/\\_groove_/\\</h1>"
   ]
  },
  {
   "cell_type": "code",
   "execution_count": 7,
   "metadata": {},
   "outputs": [],
   "source": [
    "\n",
    "main.mainloop()"
   ]
  }
 ],
 "metadata": {
  "interpreter": {
   "hash": "460de896384a73731810fc9d21c34d0aaf1e49ef9a11632b2e84b9b8a04fe99c"
  },
  "kernelspec": {
   "display_name": "Python 3.9.7 ('base')",
   "language": "python",
   "name": "python3"
  },
  "language_info": {
   "codemirror_mode": {
    "name": "ipython",
    "version": 3
   },
   "file_extension": ".py",
   "mimetype": "text/x-python",
   "name": "python",
   "nbconvert_exporter": "python",
   "pygments_lexer": "ipython3",
   "version": "3.9.7"
  },
  "orig_nbformat": 4
 },
 "nbformat": 4,
 "nbformat_minor": 2
}
