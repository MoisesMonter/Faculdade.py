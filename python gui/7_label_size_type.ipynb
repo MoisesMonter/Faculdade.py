{
 "cells": [
  {
   "cell_type": "code",
   "execution_count": 11,
   "metadata": {},
   "outputs": [],
   "source": [
    "from distutils.log import info\n",
    "from tkinter import *\n",
    "\n",
    "class Click:\n",
    "    def cmd_click():\n",
    "        print(\"Olá Mundo!\")\n",
    "    \n",
    "    def cmd_import_info(info1,info2):\n",
    "        print(info1,'\\n',info2)\n",
    "\n",
    "if (__name__) == \"__main__\":\n",
    "\n",
    "    menu = Tk()\n",
    "    menu.geometry(\"750x500+600+200\")\n",
    "    menu.minsize(width=500,height=500)\n",
    "    menu.maxsize(width=750,height=500)\n",
    "    menu.resizable(False,True)\n",
    "    menu.iconbitmap(\"icon/IF.ico\")\n",
    "    menu.title(\"Funcao Label\")\n",
    "    menu['bg']='gray' #<< letras minusculas\n",
    "    comentario='Menu'\n",
    "    label1= Label(menu,text=comentario,font='Verdana 20 bold',bg='black',fg='gray',width=10,height=1)\n",
    "    label1.pack()\n",
    "    label2= Label(menu,text=\"Texto grande\",font='Verdana 40 bold',fg=\"#aaaaaa\",bg='green',width=20,height=20)\n",
    "    label2.pack()\n",
    "\n",
    "\n",
    "    menu.mainloop()"
   ]
  },
  {
   "cell_type": "markdown",
   "metadata": {},
   "source": [
    "Funções:\n",
    "        Label : responsável por trazer um texto de informação para o codigo.\n",
    "                text ='string' << responsável pelo texto tratado >> fonte do seu texto pode ser modificada.\n",
    "                font='' <<aqui você pode dizer qual tipo o tamanho e formato ex:>> 'Arial 20 bold'.\n",
    "                fg='#------' <<serve para alterar a cor da letra>>\n",
    "                bg='#------' << serve3 para alterar o fundo da caixa>>\n",
    "                width & heifht =int <<servem para alterar o tamanho da caixa>>"
   ]
  }
 ],
 "metadata": {
  "interpreter": {
   "hash": "460de896384a73731810fc9d21c34d0aaf1e49ef9a11632b2e84b9b8a04fe99c"
  },
  "kernelspec": {
   "display_name": "Python 3.9.7 ('base')",
   "language": "python",
   "name": "python3"
  },
  "language_info": {
   "codemirror_mode": {
    "name": "ipython",
    "version": 3
   },
   "file_extension": ".py",
   "mimetype": "text/x-python",
   "name": "python",
   "nbconvert_exporter": "python",
   "pygments_lexer": "ipython3",
   "version": "3.9.7"
  },
  "orig_nbformat": 4
 },
 "nbformat": 4,
 "nbformat_minor": 2
}
