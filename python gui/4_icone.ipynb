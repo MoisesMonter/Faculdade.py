{
 "cells": [
  {
   "cell_type": "code",
   "execution_count": null,
   "metadata": {},
   "outputs": [],
   "source": [
    "from tkinter import*\n",
    "\n",
    "\n",
    "main=Tk()\n",
    "main.title(\"Sr.Monter\")\n",
    "main.geometry(\"500x500+600+200\")\n",
    "main.minsize(width=500,height=500)\n",
    "main.state(\"zoomed\")\n",
    "\n",
    "'''definir o icone'''\n",
    "main.iconbitmap(\"python gui/icon/IF.ico\")\n",
    "\n",
    "main.mainloop()\n"
   ]
  },
  {
   "cell_type": "markdown",
   "metadata": {},
   "source": [
    "Função usada:\n",
    "iconbitmap(\"string_local_do_arquivo\")\n",
    "Altera o icone natural do programa com um > arquivo.ico"
   ]
  }
 ],
 "metadata": {
  "language_info": {
   "name": "python"
  },
  "orig_nbformat": 4
 },
 "nbformat": 4,
 "nbformat_minor": 2
}
