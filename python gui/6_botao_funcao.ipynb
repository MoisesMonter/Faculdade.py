{
 "cells": [
  {
   "cell_type": "code",
   "execution_count": null,
   "metadata": {},
   "outputs": [],
   "source": [
    "from distutils.log import info\n",
    "from tkinter import *\n",
    "\n",
    "class Click:\n",
    "    def cmd_click():\n",
    "        print(\"Olá Mundo!\")\n",
    "    \n",
    "    def cmd_import_info(info1,info2):\n",
    "        print(info1,info2)\n",
    "\n",
    "if (__name__) == \"__main__\":\n",
    "\n",
    "    menu = Tk()\n",
    "    menu.geometry(\"750x80+600+200\")\n",
    "    menu.minsize(width=750,height=80)\n",
    "    menu.maxsize(width=750,height=500)\n",
    "    menu.resizable(False,True)\n",
    "\n",
    "    menu.iconbitmap(\"icon/IF.ico\")\n",
    "    menu.title(\"Funcao Button\")\n",
    "    menu['bg']='gray' #<< letras minusculas\n",
    "    ck=Click\n",
    "\n",
    "    '''botão comum seu command serve para acessar uma função'''\n",
    "    cmd = Button(menu,text='Hello World in PT',command=ck.cmd_click)\n",
    "    cmd.pack()\n",
    "    info1= [1,0,1]\n",
    "    info2= [0,1,0]\n",
    "    '''botão que leva informação, usa lambda dentrodo comand para jogar uma informação dentro da função'''\n",
    "    cmd_info = Button(menu,text='two list',command= lambda:ck.cmd_import_info(info1,info2),fg='#aaaaaa',bg='black')\n",
    "    cmd_info.pack()\n",
    "\n",
    "    menu.state(\"iconic\")\n",
    "\n",
    "    menu.mainloop()"
   ]
  },
  {
   "cell_type": "markdown",
   "metadata": {},
   "source": [
    "Função:\n",
    "    Click  >> importar para uma variavel.   \n",
    "              Serve para ativar funções ou prints\n",
    "              Com chamar : click = Click.\n",
    "    \n",
    "    command  << dentro do Button chama pelo >> lambda.\n",
    "                Função Click fica responsável por ativar a função dentro do lambda acessada pelo command. "
   ]
  }
 ],
 "metadata": {
  "interpreter": {
   "hash": "460de896384a73731810fc9d21c34d0aaf1e49ef9a11632b2e84b9b8a04fe99c"
  },
  "kernelspec": {
   "display_name": "Python 3.9.7 ('base')",
   "language": "python",
   "name": "python3"
  },
  "language_info": {
   "codemirror_mode": {
    "name": "ipython",
    "version": 3
   },
   "file_extension": ".py",
   "mimetype": "text/x-python",
   "name": "python",
   "nbconvert_exporter": "python",
   "pygments_lexer": "ipython3",
   "version": "3.9.7"
  },
  "orig_nbformat": 4
 },
 "nbformat": 4,
 "nbformat_minor": 2
}
