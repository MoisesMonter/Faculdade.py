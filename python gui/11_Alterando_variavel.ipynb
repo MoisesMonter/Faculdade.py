{
 "cells": [
  {
   "cell_type": "code",
   "execution_count": 5,
   "metadata": {},
   "outputs": [],
   "source": [
    "from tkinter import *"
   ]
  },
  {
   "cell_type": "markdown",
   "metadata": {},
   "source": [
    "Função usada:\n",
    "            StirngVar() <.>> textvariable\n",
    "            assim alterando em tempo real texto do seu codigo\n",
    "            var = StringVar()   || Label(textvariable = var)\n",
    "            var.set(\"string\")\n"
   ]
  },
  {
   "cell_type": "code",
   "execution_count": 6,
   "metadata": {},
   "outputs": [],
   "source": [
    "main = Tk()\n",
    "main.iconbitmap(\"icon/IF.ico\")\n",
    "main.title(\"titulo\")\n",
    "main.geometry(\"750x500+600+200\")\n",
    "main.resizable(False,False)\n",
    "main['bg']='#000512'\n",
    "texto= StringVar()\n",
    "texto.set('Antigo Texto')\n",
    "label1= Label(main,textvariable=texto,font='Arial 12',bd=3,relief='raised',fg='white',background='black',width=40,height=5,justify=CENTER,anchor=CENTER)\n",
    "label1.pack()\n",
    "\n",
    "\n",
    "\n"
   ]
  },
  {
   "cell_type": "code",
   "execution_count": 7,
   "metadata": {},
   "outputs": [],
   "source": [
    "texto.set(\"Novo Texto\")\n",
    "label1['anchor']=SW\n"
   ]
  },
  {
   "cell_type": "markdown",
   "metadata": {},
   "source": []
  },
  {
   "cell_type": "code",
   "execution_count": 8,
   "metadata": {},
   "outputs": [],
   "source": [
    "\n",
    "main.mainloop()"
   ]
  }
 ],
 "metadata": {
  "interpreter": {
   "hash": "460de896384a73731810fc9d21c34d0aaf1e49ef9a11632b2e84b9b8a04fe99c"
  },
  "kernelspec": {
   "display_name": "Python 3.9.7 ('base')",
   "language": "python",
   "name": "python3"
  },
  "language_info": {
   "codemirror_mode": {
    "name": "ipython",
    "version": 3
   },
   "file_extension": ".py",
   "mimetype": "text/x-python",
   "name": "python",
   "nbconvert_exporter": "python",
   "pygments_lexer": "ipython3",
   "version": "3.9.7"
  },
  "orig_nbformat": 4
 },
 "nbformat": 4,
 "nbformat_minor": 2
}
