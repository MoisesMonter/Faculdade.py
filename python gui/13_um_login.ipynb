{
 "cells": [
  {
   "cell_type": "code",
   "execution_count": 92,
   "metadata": {},
   "outputs": [],
   "source": [
    "from tkinter import *"
   ]
  },
  {
   "cell_type": "code",
   "execution_count": 93,
   "metadata": {},
   "outputs": [],
   "source": [
    "root = Tk()\n",
    "root.iconbitmap('icon/IF.ico')\n",
    "root.title('Login')\n",
    "root.geometry('+900+450')\n",
    "root.resizable(False,False)\n",
    "root['bg']='#000512'\n"
   ]
  },
  {
   "cell_type": "markdown",
   "metadata": {},
   "source": [
    "criando base do código /\\"
   ]
  },
  {
   "cell_type": "code",
   "execution_count": 94,
   "metadata": {},
   "outputs": [],
   "source": [
    "Label(root,text='Usuário : ',font='Arial 12',bg='#000512',fg='white',width=7,height=1).grid(row=0,column=0,sticky=W)\n",
    "Label(root,text='Senha   : ',font='Arial 12',bg='#000512',fg='white',width=7,height=1).grid(row=1,column=0,sticky=W)\n",
    "Label(root,bg='#000512').grid(row=0,column=3,sticky=W)\n",
    "Label(root,bg='#000512').grid(row=3,column=3,sticky=W)\n",
    "Label(root,bg='#000512').grid(row=5,column=3,sticky=W)"
   ]
  },
  {
   "cell_type": "code",
   "execution_count": 95,
   "metadata": {},
   "outputs": [],
   "source": [
    "info_user = Entry(root).grid(row=0,column=1,sticky=W)\n",
    "info_key = Entry(root,show='*').grid(row=1,column=1,sticky=W)\n"
   ]
  },
  {
   "cell_type": "markdown",
   "metadata": {},
   "source": [
    "Funções utilizadas:\n",
    "                    Entry() <-- semelhando a hierarquia de button,label... Entry serve para implementar valor dentro dele.\n",
    "                    no caso especifico, podemos utilizar função:\n",
    "                    show='*' para manter seguro strings particulares que se assemelham a senhas."
   ]
  },
  {
   "cell_type": "code",
   "execution_count": 96,
   "metadata": {},
   "outputs": [],
   "source": [
    "login = Button(root,text='Login',bg='gray',fg='white',bd=2,relief='groove').grid(row=4,column=0)"
   ]
  },
  {
   "cell_type": "code",
   "execution_count": 97,
   "metadata": {},
   "outputs": [],
   "source": [
    "root.mainloop()"
   ]
  }
 ],
 "metadata": {
  "interpreter": {
   "hash": "460de896384a73731810fc9d21c34d0aaf1e49ef9a11632b2e84b9b8a04fe99c"
  },
  "kernelspec": {
   "display_name": "Python 3.9.7 ('base')",
   "language": "python",
   "name": "python3"
  },
  "language_info": {
   "codemirror_mode": {
    "name": "ipython",
    "version": 3
   },
   "file_extension": ".py",
   "mimetype": "text/x-python",
   "name": "python",
   "nbconvert_exporter": "python",
   "pygments_lexer": "ipython3",
   "version": "3.9.7"
  },
  "orig_nbformat": 4
 },
 "nbformat": 4,
 "nbformat_minor": 2
}
