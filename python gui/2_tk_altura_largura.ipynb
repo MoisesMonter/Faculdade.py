{
 "cells": [
  {
   "cell_type": "code",
   "execution_count": null,
   "metadata": {},
   "outputs": [],
   "source": [
    "from tkinter import Tk,mainloop\n",
    "\n",
    "'''Aqui vamos dá forma geometrica no tkinter'''\n",
    "if (__name__) == \"__main__\":\n",
    "    main = Tk()\n",
    "    main.title(\"Geometria Tk\")\n",
    "    '''Lembrando de duas condições, O tamanho da janela e onde ela tem que ser posicionada'''\n",
    "    '''500x500 tá responsável pelo tamanho da janela.\\nO sinal de + vem para indicar posião de onde ela tem de se abrir\\n\n",
    "    Um ótimo exemplo é saber que a tela é uma matriz de posição que começa +0+0'''\n",
    "    \n",
    "    main.geometry(\"750x500+600+250\") #Geometry define altura e largura e o local que deseja ser aberto\n",
    "    \n",
    "    '''ter opção de não alterar o tamanho da tela pode ser importante para que as informações precisas da janela\\n\n",
    "    não seja perdida ele também tem >>>>>largura e alturo.<<<<< aceitando booleando true e false (0,1)'''\n",
    "\n",
    "    main.resizable(False,False)\n",
    "    \n",
    "    main.mainloop()"
   ]
  },
  {
   "cell_type": "markdown",
   "metadata": {},
   "source": [
    "funções usadas:\n",
    "resizable(True,True) Boelano, manipulação dos lados T/F\n",
    "\n",
    "geometry(\"750x500+600+250\") X=AlturaLargura,+Posição."
   ]
  }
 ],
 "metadata": {
  "language_info": {
   "name": "python"
  },
  "orig_nbformat": 4
 },
 "nbformat": 4,
 "nbformat_minor": 2
}
