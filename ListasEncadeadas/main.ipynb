{
 "cells": [
  {
   "cell_type": "code",
   "execution_count": 6,
   "metadata": {},
   "outputs": [],
   "source": [
    "class No:\n",
    "    def __init__(self,element):\n",
    "        self.value = element\n",
    "        self.next  = None"
   ]
  },
  {
   "cell_type": "code",
   "execution_count": 107,
   "metadata": {},
   "outputs": [],
   "source": [
    "class Lista:\n",
    "    def __init__(self):\n",
    "        self.header = None\n",
    "        self.cont = 0\n",
    "\n",
    "    def push(self,element): \n",
    "        node = No(element)\n",
    "        current = self.header\n",
    "        if self.header == None: \n",
    "            self.header = node\n",
    "            current = self.header\n",
    "        else:   \n",
    "            current = self.header\n",
    "            while current.next != None:\n",
    "                current = current.next    \n",
    "            current.next = node\n",
    "        self.cont+=1\n",
    "    \n",
    "    def getElementAt(self,position):\n",
    "\n",
    "        if position >= 0 and position <= self.cont:\n",
    "            node = self.header\n",
    "            for x in range(position):\n",
    "                if node != None:\n",
    "                    node = node.next\n",
    "            return node\n",
    "        return -1\n",
    "\n",
    "    def insertAt(self,element,position):\n",
    "        if position > self.cont:\n",
    "            position = self.cont\n",
    "        if position >= 0:\n",
    "            node = No(element)\n",
    "            if position == 0:\n",
    "                current = self.header\n",
    "                node.next = current\n",
    "                self.header = node\n",
    "            else:\n",
    "                previous = self.getElementAt(position-1)\n",
    "                current = previous.next\n",
    "                node.next = current\n",
    "                previous.next =node \n",
    "            self.cont+=1\n",
    "            return True\n",
    "        return False \n",
    "    \n",
    "    def removeAt(self,position):\n",
    "        if int(position) > int(self.cont):\n",
    "            position = self.cont\n",
    "        if position >= 0:\n",
    "            current = self.header\n",
    "            if position == 0:\n",
    "                self.header =self.header.next\n",
    "            else:\n",
    "                previous = self.getElementAt(position-1)\n",
    "                current = previous.next\n",
    "                previous.next = current\n",
    "            self.cont-=1\n",
    "            return True\n",
    "        return False"
   ]
  },
  {
   "cell_type": "code",
   "execution_count": 109,
   "metadata": {},
   "outputs": [
    {
     "name": "stdout",
     "output_type": "stream",
     "text": [
      "<__main__.No object at 0x7f2ea8755040> 1\n",
      "\n",
      "\n",
      "<__main__.No object at 0x7f2ea8755370> 2\n",
      "\n",
      "\n",
      "<__main__.No object at 0x7f2ea90b1160> 3\n",
      "\n",
      "\n",
      "<__main__.No object at 0x7f2ea8755370> 1\n",
      "\n",
      "\n",
      "<__main__.No object at 0x7f2ea90b1160> 2\n",
      "\n",
      "\n"
     ]
    }
   ],
   "source": [
    "if __name__ == \"__main__\":\n",
    "    lista = Lista()\n",
    "    lista.push(15)\n",
    "    lista.push(14)\n",
    "    lista.push(13)\n",
    "    lista.push(12)\n",
    "    lista.insertAt(33,4)\n",
    "    print(lista.getElementAt(1),'1\\n\\n')\n",
    "    print(lista.getElementAt(2),'2\\n\\n')   \n",
    "    print(lista.getElementAt(3),'3\\n\\n')\n",
    "    lista.removeAt(0)\n",
    "    print(lista.getElementAt(1),'1\\n\\n')\n",
    "    print(lista.getElementAt(2),'2\\n\\n')\n",
    "\n",
    " \n"
   ]
  }
 ],
 "metadata": {
  "kernelspec": {
   "display_name": "Python 3.8.10 64-bit",
   "language": "python",
   "name": "python3"
  },
  "language_info": {
   "codemirror_mode": {
    "name": "ipython",
    "version": 3
   },
   "file_extension": ".py",
   "mimetype": "text/x-python",
   "name": "python",
   "nbconvert_exporter": "python",
   "pygments_lexer": "ipython3",
   "version": "3.8.10"
  },
  "orig_nbformat": 4,
  "vscode": {
   "interpreter": {
    "hash": "916dbcbb3f70747c44a77c7bcd40155683ae19c65e1c03b4aa3499c5328201f1"
   }
  }
 },
 "nbformat": 4,
 "nbformat_minor": 2
}
