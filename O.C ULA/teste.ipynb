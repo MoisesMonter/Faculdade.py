{
 "cells": [
  {
   "cell_type": "code",
   "execution_count": 17,
   "metadata": {},
   "outputs": [
    {
     "name": "stdout",
     "output_type": "stream",
     "text": [
      "-7 : 111\n",
      "-6 : 110\n",
      "-5 : 101\n",
      "-4 : 100\n",
      "-3 : 011\n",
      "-2 : 010\n",
      "-1 : 001\n",
      "0 : 000\n",
      "<dict_reversekeyiterator object at 0x000002212454AEA0>\n",
      "{-7: '111', -6: '110', -5: '101', -4: '100', -3: '011', -2: '010', -1: '001', 0: '000', 1: '001', 2: '010', 3: '011', 4: '100', 5: '101', 6: '110', 7: '111'}\n"
     ]
    },
    {
     "data": {
      "text/plain": [
       "'print(2^3) #XOR\\n\\nprint(2&3) #AND\\n\\nprint(4|3) #OR \\n\\nprint(~2) #NOT ( -2 -1)'"
      ]
     },
     "execution_count": 17,
     "metadata": {},
     "output_type": "execute_result"
    }
   ],
   "source": [
    "'''print(bin(-5))#pegar binario'''\n",
    "'''i = bin(1)'''\n",
    "#print(\"{0:b}\".format(-5))\n",
    "#j = \"{0:b}\".format(i)\n",
    "x =''\n",
    "lista={}\n",
    "for i in range(0,8,1):\n",
    "    x= str(format(i, \"b\"))\n",
    "    \n",
    "    for j in range(0,3,1):\n",
    "        if int(len(x)) <3:\n",
    "            x = '0'+x\n",
    "    lista[i]=x\n",
    "\n",
    "cont = int(-8)\n",
    "negative=''\n",
    "neglista={}\n",
    "for val in lista.values():\n",
    "    cont = cont+1\n",
    "    x =str(val)\n",
    "    negative=''\n",
    "    for i in range(0,len(x),1):\n",
    "        \n",
    "        if x[i]== '0':\n",
    "            negative = negative+'1'\n",
    "        else:\n",
    "            negative= negative+'0'\n",
    "    print(cont,':',negative)\n",
    "    neglista[cont]=negative\n",
    "        \n",
    "print(reversed(neglista))\n",
    "\n",
    "dictbin = {**neglista,**lista}\n",
    "\n",
    "print(dictbin)\n",
    "\n",
    "    \n",
    " \n",
    "'''x=str(format(\"te amo\",'b'))'''\n",
    "\n",
    "    \n",
    "'''temp = format(-1, \"b\")\n",
    "temp = format(3, \"b\")\n",
    "x = str(temp)\n",
    "\n",
    "print(x)\n",
    "\n",
    "print(temp)\n",
    "'''\n",
    "'''print(2^3) #XOR\n",
    "\n",
    "print(2&3) #AND\n",
    "\n",
    "print(4|3) #OR \n",
    "\n",
    "print(~2) #NOT ( -2 -1)'''"
   ]
  }
 ],
 "metadata": {
  "interpreter": {
   "hash": "b4ff9f386fc52914441e610d03d3dd73218bdb4462074479b1d07284ff48a15a"
  },
  "kernelspec": {
   "display_name": "Python 3.10.2 64-bit (windows store)",
   "language": "python",
   "name": "python3"
  },
  "language_info": {
   "codemirror_mode": {
    "name": "ipython",
    "version": 3
   },
   "file_extension": ".py",
   "mimetype": "text/x-python",
   "name": "python",
   "nbconvert_exporter": "python",
   "pygments_lexer": "ipython3",
   "version": "3.9.7"
  },
  "orig_nbformat": 4
 },
 "nbformat": 4,
 "nbformat_minor": 2
}
